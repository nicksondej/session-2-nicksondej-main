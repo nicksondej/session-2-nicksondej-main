{
 "cells": [
  {
   "cell_type": "markdown",
   "id": "5d918e67-270b-4d84-a5d6-aae8ceceb5a9",
   "metadata": {},
   "source": [
    "## Homework 1\n",
    "\n",
    "Let's utilize `pandas` to manipulate the 2017 Bloomington weather data set."
   ]
  },
  {
   "cell_type": "markdown",
   "id": "aeaef1fc-eb7e-49f7-910b-90beee5dbda3",
   "metadata": {},
   "source": [
    "### Task 1\n",
    "\n",
    "Use pd.read_csv() to load the data file into a DataFrame. What is the average and standard deviation for the daily high temperature?\n",
    "\n"
   ]
  },
  {
   "cell_type": "code",
   "execution_count": 18,
   "id": "6b79c5ee",
   "metadata": {},
   "outputs": [],
   "source": [
    "import pandas as pd\n",
    "import numpy as np\n",
    "import matplotlib.pyplot as plt"
   ]
  },
  {
   "cell_type": "code",
   "execution_count": 2,
   "id": "845cad47-262f-4efd-82b3-8d587ec55f69",
   "metadata": {},
   "outputs": [],
   "source": [
    "df_weather = pd.read_csv('data/2017-weather.csv')"
   ]
  },
  {
   "cell_type": "markdown",
   "id": "4c245870-c58d-42b3-9ca9-6a007b5191eb",
   "metadata": {},
   "source": [
    "### Task 2\n",
    "\n",
    "Convert the column `Data` into Python datetime objects. Now create a new column called `Month` containing the month abbreviation text.\n"
   ]
  },
  {
   "cell_type": "code",
   "execution_count": 5,
   "id": "5fe559dd-2f05-4349-8367-36306b8e90ed",
   "metadata": {},
   "outputs": [],
   "source": [
    "df_weather['Date'] = pd.to_datetime(df_weather['Date'])\n",
    "df_weather.index = df_weather['Date']"
   ]
  },
  {
   "cell_type": "markdown",
   "id": "2e078c9c-cc0e-40b1-befa-3fad25eaea2f",
   "metadata": {},
   "source": [
    "### Task 3\n",
    "\n",
    "Use a pandas expression to substitute a rainfall amount of 0.05 inches whenever there is a \"T\" in the \"Precip\" column. Show that the `Precip` column now contains all floating-point values.\n"
   ]
  },
  {
   "cell_type": "code",
   "execution_count": 6,
   "id": "eaf7303e-9e73-4401-b2f4-21556f6878be",
   "metadata": {},
   "outputs": [
    {
     "data": {
      "text/plain": [
       "Date\n",
       "2017-01-01    0.00\n",
       "2017-01-02    0.33\n",
       "2017-01-03    0.36\n",
       "2017-01-04    0.00\n",
       "2017-01-05    0.03\n",
       "              ... \n",
       "2017-12-27    0.00\n",
       "2017-12-28    0.00\n",
       "2017-12-29    0.02\n",
       "2017-12-30    0.05\n",
       "2017-12-31    0.00\n",
       "Name: Precip, Length: 365, dtype: float64"
      ]
     },
     "execution_count": 6,
     "metadata": {},
     "output_type": "execute_result"
    }
   ],
   "source": [
    "df_weather.loc[df_weather['Precip'] == 'T', 'Precip'] = '0.05'\n",
    "df_weather['Precip'] = pd.to_numeric(df_weather['Precip'])\n",
    "df_weather['Precip']"
   ]
  },
  {
   "cell_type": "markdown",
   "id": "07d688c6-2b73-462b-b7dc-17c59edba0dc",
   "metadata": {},
   "source": [
    "### Task 4\n",
    "\n",
    "Use your own functions (from previous work) or `lambda` expressions with the `apply` method to create a column \"HDD\" containing the daily number of heating degree-days and a column \"CDD\" containing the daily number of cooling degree days. Recall the definition of heating and cooling \"degree-days\" from the previous assignments.\n"
   ]
  },
  {
   "cell_type": "code",
   "execution_count": 19,
   "id": "38187685-a069-4c1c-91db-4d42c7b3e741",
   "metadata": {},
   "outputs": [
    {
     "data": {
      "text/html": [
       "<div>\n",
       "<style scoped>\n",
       "    .dataframe tbody tr th:only-of-type {\n",
       "        vertical-align: middle;\n",
       "    }\n",
       "\n",
       "    .dataframe tbody tr th {\n",
       "        vertical-align: top;\n",
       "    }\n",
       "\n",
       "    .dataframe thead th {\n",
       "        text-align: right;\n",
       "    }\n",
       "</style>\n",
       "<table border=\"1\" class=\"dataframe\">\n",
       "  <thead>\n",
       "    <tr style=\"text-align: right;\">\n",
       "      <th></th>\n",
       "      <th>Date</th>\n",
       "      <th>HighT</th>\n",
       "      <th>AvgT</th>\n",
       "      <th>LowT</th>\n",
       "      <th>HighDP</th>\n",
       "      <th>AvgDP</th>\n",
       "      <th>LowDP</th>\n",
       "      <th>HighHum</th>\n",
       "      <th>AvgHum</th>\n",
       "      <th>LowHum</th>\n",
       "      <th>...</th>\n",
       "      <th>HighVis</th>\n",
       "      <th>AvgVis</th>\n",
       "      <th>LowVia</th>\n",
       "      <th>HighWind</th>\n",
       "      <th>AvgWind</th>\n",
       "      <th>DirWind</th>\n",
       "      <th>Precip</th>\n",
       "      <th>Notes</th>\n",
       "      <th>HDD</th>\n",
       "      <th>CDD</th>\n",
       "    </tr>\n",
       "    <tr>\n",
       "      <th>Date</th>\n",
       "      <th></th>\n",
       "      <th></th>\n",
       "      <th></th>\n",
       "      <th></th>\n",
       "      <th></th>\n",
       "      <th></th>\n",
       "      <th></th>\n",
       "      <th></th>\n",
       "      <th></th>\n",
       "      <th></th>\n",
       "      <th></th>\n",
       "      <th></th>\n",
       "      <th></th>\n",
       "      <th></th>\n",
       "      <th></th>\n",
       "      <th></th>\n",
       "      <th></th>\n",
       "      <th></th>\n",
       "      <th></th>\n",
       "      <th></th>\n",
       "      <th></th>\n",
       "    </tr>\n",
       "  </thead>\n",
       "  <tbody>\n",
       "    <tr>\n",
       "      <th>2017-01-01</th>\n",
       "      <td>2017-01-01</td>\n",
       "      <td>46</td>\n",
       "      <td>35</td>\n",
       "      <td>24</td>\n",
       "      <td>38</td>\n",
       "      <td>29</td>\n",
       "      <td>20</td>\n",
       "      <td>89</td>\n",
       "      <td>77</td>\n",
       "      <td>58</td>\n",
       "      <td>...</td>\n",
       "      <td>10</td>\n",
       "      <td>9</td>\n",
       "      <td>4</td>\n",
       "      <td>9</td>\n",
       "      <td>4</td>\n",
       "      <td>-</td>\n",
       "      <td>0.00</td>\n",
       "      <td>NaN</td>\n",
       "      <td>30</td>\n",
       "      <td>0</td>\n",
       "    </tr>\n",
       "    <tr>\n",
       "      <th>2017-01-02</th>\n",
       "      <td>2017-01-02</td>\n",
       "      <td>54</td>\n",
       "      <td>48</td>\n",
       "      <td>41</td>\n",
       "      <td>52</td>\n",
       "      <td>46</td>\n",
       "      <td>38</td>\n",
       "      <td>97</td>\n",
       "      <td>91</td>\n",
       "      <td>77</td>\n",
       "      <td>...</td>\n",
       "      <td>10</td>\n",
       "      <td>3</td>\n",
       "      <td>0</td>\n",
       "      <td>10</td>\n",
       "      <td>5</td>\n",
       "      <td>-</td>\n",
       "      <td>0.33</td>\n",
       "      <td>Fog , Rain</td>\n",
       "      <td>17</td>\n",
       "      <td>0</td>\n",
       "    </tr>\n",
       "    <tr>\n",
       "      <th>2017-01-03</th>\n",
       "      <td>2017-01-03</td>\n",
       "      <td>54</td>\n",
       "      <td>45</td>\n",
       "      <td>34</td>\n",
       "      <td>54</td>\n",
       "      <td>48</td>\n",
       "      <td>31</td>\n",
       "      <td>100</td>\n",
       "      <td>92</td>\n",
       "      <td>86</td>\n",
       "      <td>...</td>\n",
       "      <td>10</td>\n",
       "      <td>3</td>\n",
       "      <td>0</td>\n",
       "      <td>17</td>\n",
       "      <td>4</td>\n",
       "      <td>26</td>\n",
       "      <td>0.36</td>\n",
       "      <td>Fog , Rain</td>\n",
       "      <td>20</td>\n",
       "      <td>0</td>\n",
       "    </tr>\n",
       "    <tr>\n",
       "      <th>2017-01-04</th>\n",
       "      <td>2017-01-04</td>\n",
       "      <td>30</td>\n",
       "      <td>24</td>\n",
       "      <td>19</td>\n",
       "      <td>28</td>\n",
       "      <td>14</td>\n",
       "      <td>10</td>\n",
       "      <td>89</td>\n",
       "      <td>68</td>\n",
       "      <td>57</td>\n",
       "      <td>...</td>\n",
       "      <td>10</td>\n",
       "      <td>10</td>\n",
       "      <td>7</td>\n",
       "      <td>15</td>\n",
       "      <td>11</td>\n",
       "      <td>24</td>\n",
       "      <td>0.00</td>\n",
       "      <td>NaN</td>\n",
       "      <td>41</td>\n",
       "      <td>0</td>\n",
       "    </tr>\n",
       "    <tr>\n",
       "      <th>2017-01-05</th>\n",
       "      <td>2017-01-05</td>\n",
       "      <td>19</td>\n",
       "      <td>14</td>\n",
       "      <td>8</td>\n",
       "      <td>14</td>\n",
       "      <td>10</td>\n",
       "      <td>2</td>\n",
       "      <td>84</td>\n",
       "      <td>76</td>\n",
       "      <td>60</td>\n",
       "      <td>...</td>\n",
       "      <td>10</td>\n",
       "      <td>4</td>\n",
       "      <td>0</td>\n",
       "      <td>9</td>\n",
       "      <td>5</td>\n",
       "      <td>-</td>\n",
       "      <td>0.03</td>\n",
       "      <td>Snow</td>\n",
       "      <td>51</td>\n",
       "      <td>0</td>\n",
       "    </tr>\n",
       "    <tr>\n",
       "      <th>...</th>\n",
       "      <td>...</td>\n",
       "      <td>...</td>\n",
       "      <td>...</td>\n",
       "      <td>...</td>\n",
       "      <td>...</td>\n",
       "      <td>...</td>\n",
       "      <td>...</td>\n",
       "      <td>...</td>\n",
       "      <td>...</td>\n",
       "      <td>...</td>\n",
       "      <td>...</td>\n",
       "      <td>...</td>\n",
       "      <td>...</td>\n",
       "      <td>...</td>\n",
       "      <td>...</td>\n",
       "      <td>...</td>\n",
       "      <td>...</td>\n",
       "      <td>...</td>\n",
       "      <td>...</td>\n",
       "      <td>...</td>\n",
       "      <td>...</td>\n",
       "    </tr>\n",
       "    <tr>\n",
       "      <th>2017-12-27</th>\n",
       "      <td>2017-12-27</td>\n",
       "      <td>13</td>\n",
       "      <td>6</td>\n",
       "      <td>-2</td>\n",
       "      <td>-5</td>\n",
       "      <td>-7</td>\n",
       "      <td>-9</td>\n",
       "      <td>79</td>\n",
       "      <td>63</td>\n",
       "      <td>46</td>\n",
       "      <td>...</td>\n",
       "      <td>10</td>\n",
       "      <td>10</td>\n",
       "      <td>10</td>\n",
       "      <td>14</td>\n",
       "      <td>6</td>\n",
       "      <td>16</td>\n",
       "      <td>0.00</td>\n",
       "      <td>NaN</td>\n",
       "      <td>59</td>\n",
       "      <td>0</td>\n",
       "    </tr>\n",
       "    <tr>\n",
       "      <th>2017-12-28</th>\n",
       "      <td>2017-12-28</td>\n",
       "      <td>21</td>\n",
       "      <td>13</td>\n",
       "      <td>4</td>\n",
       "      <td>7</td>\n",
       "      <td>1</td>\n",
       "      <td>-5</td>\n",
       "      <td>69</td>\n",
       "      <td>55</td>\n",
       "      <td>41</td>\n",
       "      <td>...</td>\n",
       "      <td>10</td>\n",
       "      <td>10</td>\n",
       "      <td>10</td>\n",
       "      <td>13</td>\n",
       "      <td>5</td>\n",
       "      <td>16</td>\n",
       "      <td>0.00</td>\n",
       "      <td>NaN</td>\n",
       "      <td>52</td>\n",
       "      <td>0</td>\n",
       "    </tr>\n",
       "    <tr>\n",
       "      <th>2017-12-29</th>\n",
       "      <td>2017-12-29</td>\n",
       "      <td>22</td>\n",
       "      <td>20</td>\n",
       "      <td>17</td>\n",
       "      <td>16</td>\n",
       "      <td>12</td>\n",
       "      <td>7</td>\n",
       "      <td>84</td>\n",
       "      <td>70</td>\n",
       "      <td>56</td>\n",
       "      <td>...</td>\n",
       "      <td>10</td>\n",
       "      <td>8</td>\n",
       "      <td>0</td>\n",
       "      <td>12</td>\n",
       "      <td>4</td>\n",
       "      <td>17</td>\n",
       "      <td>0.02</td>\n",
       "      <td>Snow</td>\n",
       "      <td>45</td>\n",
       "      <td>0</td>\n",
       "    </tr>\n",
       "    <tr>\n",
       "      <th>2017-12-30</th>\n",
       "      <td>2017-12-30</td>\n",
       "      <td>21</td>\n",
       "      <td>12</td>\n",
       "      <td>3</td>\n",
       "      <td>17</td>\n",
       "      <td>7</td>\n",
       "      <td>-6</td>\n",
       "      <td>91</td>\n",
       "      <td>69</td>\n",
       "      <td>46</td>\n",
       "      <td>...</td>\n",
       "      <td>10</td>\n",
       "      <td>8</td>\n",
       "      <td>2</td>\n",
       "      <td>15</td>\n",
       "      <td>7</td>\n",
       "      <td>20</td>\n",
       "      <td>0.05</td>\n",
       "      <td>Snow</td>\n",
       "      <td>53</td>\n",
       "      <td>0</td>\n",
       "    </tr>\n",
       "    <tr>\n",
       "      <th>2017-12-31</th>\n",
       "      <td>2017-12-31</td>\n",
       "      <td>12</td>\n",
       "      <td>6</td>\n",
       "      <td>-1</td>\n",
       "      <td>2</td>\n",
       "      <td>-2</td>\n",
       "      <td>-6</td>\n",
       "      <td>79</td>\n",
       "      <td>70</td>\n",
       "      <td>61</td>\n",
       "      <td>...</td>\n",
       "      <td>10</td>\n",
       "      <td>10</td>\n",
       "      <td>10</td>\n",
       "      <td>15</td>\n",
       "      <td>7</td>\n",
       "      <td>18</td>\n",
       "      <td>0.00</td>\n",
       "      <td>NaN</td>\n",
       "      <td>59</td>\n",
       "      <td>0</td>\n",
       "    </tr>\n",
       "  </tbody>\n",
       "</table>\n",
       "<p>365 rows × 23 columns</p>\n",
       "</div>"
      ],
      "text/plain": [
       "                 Date  HighT  AvgT  LowT  HighDP  AvgDP  LowDP  HighHum  \\\n",
       "Date                                                                      \n",
       "2017-01-01 2017-01-01     46    35    24      38     29     20       89   \n",
       "2017-01-02 2017-01-02     54    48    41      52     46     38       97   \n",
       "2017-01-03 2017-01-03     54    45    34      54     48     31      100   \n",
       "2017-01-04 2017-01-04     30    24    19      28     14     10       89   \n",
       "2017-01-05 2017-01-05     19    14     8      14     10      2       84   \n",
       "...               ...    ...   ...   ...     ...    ...    ...      ...   \n",
       "2017-12-27 2017-12-27     13     6    -2      -5     -7     -9       79   \n",
       "2017-12-28 2017-12-28     21    13     4       7      1     -5       69   \n",
       "2017-12-29 2017-12-29     22    20    17      16     12      7       84   \n",
       "2017-12-30 2017-12-30     21    12     3      17      7     -6       91   \n",
       "2017-12-31 2017-12-31     12     6    -1       2     -2     -6       79   \n",
       "\n",
       "            AvgHum  LowHum  ...  HighVis  AvgVis  LowVia  HighWind  AvgWind  \\\n",
       "Date                        ...                                               \n",
       "2017-01-01      77      58  ...       10       9       4         9        4   \n",
       "2017-01-02      91      77  ...       10       3       0        10        5   \n",
       "2017-01-03      92      86  ...       10       3       0        17        4   \n",
       "2017-01-04      68      57  ...       10      10       7        15       11   \n",
       "2017-01-05      76      60  ...       10       4       0         9        5   \n",
       "...            ...     ...  ...      ...     ...     ...       ...      ...   \n",
       "2017-12-27      63      46  ...       10      10      10        14        6   \n",
       "2017-12-28      55      41  ...       10      10      10        13        5   \n",
       "2017-12-29      70      56  ...       10       8       0        12        4   \n",
       "2017-12-30      69      46  ...       10       8       2        15        7   \n",
       "2017-12-31      70      61  ...       10      10      10        15        7   \n",
       "\n",
       "            DirWind  Precip       Notes HDD  CDD  \n",
       "Date                                              \n",
       "2017-01-01        -    0.00         NaN  30    0  \n",
       "2017-01-02        -    0.33  Fog , Rain  17    0  \n",
       "2017-01-03       26    0.36  Fog , Rain  20    0  \n",
       "2017-01-04       24    0.00         NaN  41    0  \n",
       "2017-01-05        -    0.03        Snow  51    0  \n",
       "...             ...     ...         ...  ..  ...  \n",
       "2017-12-27       16    0.00         NaN  59    0  \n",
       "2017-12-28       16    0.00         NaN  52    0  \n",
       "2017-12-29       17    0.02        Snow  45    0  \n",
       "2017-12-30       20    0.05        Snow  53    0  \n",
       "2017-12-31       18    0.00         NaN  59    0  \n",
       "\n",
       "[365 rows x 23 columns]"
      ]
     },
     "execution_count": 19,
     "metadata": {},
     "output_type": "execute_result"
    }
   ],
   "source": [
    "#Heating, 0 if >65, use if then else\n",
    "\n",
    "HDD = lambda row: (65 - row ['AvgT']) if (row['AvgT']) < 65 else 0\n",
    "df_weather['HDD']=df_weather.apply(HDD,axis = 1)\n",
    "CDD = lambda row: (row['AvgT'] - 65) if (row['AvgT']) > 65 else 0\n",
    "df_weather['CDD'] = df_weather.apply(CDD,axis = 1)\n",
    "df_weather\n"
   ]
  },
  {
   "cell_type": "markdown",
   "id": "fb98e4f5-6d5c-4720-9808-94bfcfc4f2a3",
   "metadata": {},
   "source": [
    "### Task 5\n",
    "\n",
    "Make two bar charts, one showing the monthly total of heating degree-days and the other showing the monthly number of cooling degree-days."
   ]
  },
  {
   "cell_type": "code",
   "execution_count": 147,
   "id": "bec9d0d9-9010-4f05-bfe4-ea4fd61bd6c7",
   "metadata": {},
   "outputs": [
    {
     "data": {
      "text/plain": [
       "array([<Axes: title={'center': 'CDD'}, xlabel='Month'>,\n",
       "       <Axes: title={'center': 'HDD'}, xlabel='Month'>], dtype=object)"
      ]
     },
     "execution_count": 147,
     "metadata": {},
     "output_type": "execute_result"
    },
    {
     "data": {
      "image/png": "[encoded data removed]",
      "text/plain": [
       "<Figure size 640x480 with 2 Axes>"
      ]
     },
     "metadata": {},
     "output_type": "display_data"
    }
   ],
   "source": [
    "df_weather['Month'] = df_weather['Date'].dt.strftime('%b')\n",
    "\n",
    "monthly = pd.DataFrame({'CDD':df_weather['CDD'].groupby(df_weather['Month'],sort=False).sum(),\n",
    "                        'HDD':df_weather['HDD'].groupby(df_weather['Month'],sort=False).sum(),\n",
    "                        })\n",
    "monthly\n",
    "monthly.plot.bar(y=['CDD','HDD'],subplots = True)"
   ]
  },
  {
   "cell_type": "markdown",
   "id": "4c9b1237-2a0d-49b2-a4c2-dc835316b718",
   "metadata": {},
   "source": [
    "### Task 6\n",
    "\n",
    "In 2017, how many days were there when the daily high temperature was 75 degrees Fahrenheit or higher?\n"
   ]
  },
  {
   "cell_type": "code",
   "execution_count": 60,
   "id": "5dcb0b61-7eda-4f3c-87cb-aca10a343a4e",
   "metadata": {},
   "outputs": [
    {
     "data": {
      "text/plain": [
       "154"
      ]
     },
     "execution_count": 60,
     "metadata": {},
     "output_type": "execute_result"
    }
   ],
   "source": [
    "hightemp = df_weather['HighT'] >= 75\n",
    "filterdf_weather = df_weather.loc[(df_weather['Date'].dt.year == 2017) & hightemp]\n",
    "\n",
    "hightempdays2017 = len(filterdf_weather)\n",
    "hightempdays2017"
   ]
  },
  {
   "cell_type": "markdown",
   "id": "546cc7b7-1727-4588-9b74-afac253028e9",
   "metadata": {},
   "source": [
    "### Task 7\n",
    "\n",
    "Now, solve Task 6 but find the number of days **in each month** when the high temperature was 75 degrees Fahrenheit or higher.\n"
   ]
  },
  {
   "cell_type": "code",
   "execution_count": 46,
   "id": "3a0cb6cd-4544-44f7-83bb-92cc617bf781",
   "metadata": {},
   "outputs": [
    {
     "data": {
      "text/html": [
       "<div>\n",
       "<style scoped>\n",
       "    .dataframe tbody tr th:only-of-type {\n",
       "        vertical-align: middle;\n",
       "    }\n",
       "\n",
       "    .dataframe tbody tr th {\n",
       "        vertical-align: top;\n",
       "    }\n",
       "\n",
       "    .dataframe thead th {\n",
       "        text-align: right;\n",
       "    }\n",
       "</style>\n",
       "<table border=\"1\" class=\"dataframe\">\n",
       "  <thead>\n",
       "    <tr style=\"text-align: right;\">\n",
       "      <th></th>\n",
       "      <th>High Temp Days</th>\n",
       "    </tr>\n",
       "    <tr>\n",
       "      <th>Month</th>\n",
       "      <th></th>\n",
       "    </tr>\n",
       "  </thead>\n",
       "  <tbody>\n",
       "    <tr>\n",
       "      <th>Jan</th>\n",
       "      <td>0</td>\n",
       "    </tr>\n",
       "    <tr>\n",
       "      <th>Feb</th>\n",
       "      <td>0</td>\n",
       "    </tr>\n",
       "    <tr>\n",
       "      <th>Mar</th>\n",
       "      <td>2</td>\n",
       "    </tr>\n",
       "    <tr>\n",
       "      <th>Apr</th>\n",
       "      <td>13</td>\n",
       "    </tr>\n",
       "    <tr>\n",
       "      <th>May</th>\n",
       "      <td>16</td>\n",
       "    </tr>\n",
       "    <tr>\n",
       "      <th>Jun</th>\n",
       "      <td>29</td>\n",
       "    </tr>\n",
       "    <tr>\n",
       "      <th>Jul</th>\n",
       "      <td>31</td>\n",
       "    </tr>\n",
       "    <tr>\n",
       "      <th>Aug</th>\n",
       "      <td>30</td>\n",
       "    </tr>\n",
       "    <tr>\n",
       "      <th>Sep</th>\n",
       "      <td>22</td>\n",
       "    </tr>\n",
       "    <tr>\n",
       "      <th>Oct</th>\n",
       "      <td>11</td>\n",
       "    </tr>\n",
       "    <tr>\n",
       "      <th>Nov</th>\n",
       "      <td>0</td>\n",
       "    </tr>\n",
       "    <tr>\n",
       "      <th>Dec</th>\n",
       "      <td>0</td>\n",
       "    </tr>\n",
       "  </tbody>\n",
       "</table>\n",
       "</div>"
      ],
      "text/plain": [
       "       High Temp Days\n",
       "Month                \n",
       "Jan                 0\n",
       "Feb                 0\n",
       "Mar                 2\n",
       "Apr                13\n",
       "May                16\n",
       "Jun                29\n",
       "Jul                31\n",
       "Aug                30\n",
       "Sep                22\n",
       "Oct                11\n",
       "Nov                 0\n",
       "Dec                 0"
      ]
     },
     "execution_count": 46,
     "metadata": {},
     "output_type": "execute_result"
    }
   ],
   "source": [
    "hightemp = df_weather['HighT'] >= 75\n",
    "\n",
    "monthly = pd.DataFrame({'High Temp Days':hightemp.groupby(df_weather['Month'], sort=False).sum()     \n",
    "                        })\n",
    "monthly"
   ]
  },
  {
   "cell_type": "markdown",
   "id": "1cabca83-f943-4f6d-8a33-ae19cb810180",
   "metadata": {},
   "source": [
    "### Task 8\n",
    "\n",
    "How many days in 2017 reported that foggy conditions had occurred? How many had snow?\n",
    "\n"
   ]
  },
  {
   "cell_type": "code",
   "execution_count": 153,
   "id": "f64ff1d6",
   "metadata": {},
   "outputs": [
    {
     "name": "stdout",
     "output_type": "stream",
     "text": [
      "There were 365 foggy days and 0 snowy days in 2017\n"
     ]
    }
   ],
   "source": [
    "df_weather['fog'] = df_weather['Notes'].apply(lambda x: x if x == 'Fog' else None)\n",
    "\n",
    "df_weather['snow'] = df_weather['Notes'].apply(lambda x: x if x == 'Snow' else None)\n",
    "\n",
    "print(f\"There were {df_weather['fog'].count()} foggy days and {df_weather['snow'].count()} snowy days in 2017\")\n",
    "\n",
    "#Not sure why but no matter what I try, it returns 365 and 0"
   ]
  },
  {
   "cell_type": "markdown",
   "id": "2fe0e74e-c51b-4b55-b609-bf153899c35b",
   "metadata": {},
   "source": [
    "### Task 9 (extra credit)\n",
    "\n",
    "Re-work your solution for Task 5 to make one plot that has bars for heating and cooling degree-days on the same axes. You'll find some exaples at [this site](https://www.pythoncharts.com/matplotlib/grouped-bar-charts-matplotlib/)."
   ]
  },
  {
   "cell_type": "code",
   "execution_count": 148,
   "id": "456625a9-b5de-4978-84cc-6d67323ee7c7",
   "metadata": {},
   "outputs": [
    {
     "data": {
      "text/plain": [
       "<Axes: xlabel='Month'>"
      ]
     },
     "execution_count": 148,
     "metadata": {},
     "output_type": "execute_result"
    },
    {
     "data": {
      "image/png": "[encoded data removed]",
      "text/plain": [
       "<Figure size 640x480 with 1 Axes>"
      ]
     },
     "metadata": {},
     "output_type": "display_data"
    }
   ],
   "source": [
    "monthly.plot.bar(y=['CDD','HDD'],subplots = False)"
   ]
  },
  {
   "cell_type": "code",
   "execution_count": null,
   "id": "346f1364",
   "metadata": {},
   "outputs": [],
   "source": []
  }
 ],
 "metadata": {
  "kernelspec": {
   "display_name": "venv",
   "language": "python",
   "name": "python3"
  },
  "language_info": {
   "codemirror_mode": {
    "name": "ipython",
    "version": 3
   },
   "file_extension": ".py",
   "mimetype": "text/x-python",
   "name": "python",
   "nbconvert_exporter": "python",
   "pygments_lexer": "ipython3",
   "version": "3.11.1"
  },
  "vscode": {
   "interpreter": {
    "hash": "086214bde6af60689bccda06365bd4b00dff2ef080209e34f43601f6e515ed25"
   }
  }
 },
 "nbformat": 4,
 "nbformat_minor": 5
}
